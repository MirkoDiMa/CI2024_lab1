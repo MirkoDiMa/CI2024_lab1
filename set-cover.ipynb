{
 "cells": [
  {
   "cell_type": "markdown",
   "metadata": {},
   "source": [
    "Copyright **`(c)`** 2024 Giovanni Squillero `<giovanni.squillero@polito.it>`  \n",
    "[`https://github.com/squillero/computational-intelligence`](https://github.com/squillero/computational-intelligence)  \n",
    "Free for personal or classroom use; see [`LICENSE.md`](https://github.com/squillero/computational-intelligence/blob/master/LICENSE.md) for details.  "
   ]
  },
  {
   "cell_type": "markdown",
   "metadata": {},
   "source": [
    "# Set Cover problem\n",
    "\n",
    "See: https://en.wikipedia.org/wiki/Set_cover_problem"
   ]
  },
  {
   "cell_type": "code",
   "execution_count": 2,
   "metadata": {},
   "outputs": [],
   "source": [
    "from random import random, seed\n",
    "from itertools import product\n",
    "import numpy as np"
   ]
  },
  {
   "cell_type": "markdown",
   "metadata": {},
   "source": [
    "## Reproducible Initialization\n",
    "\n",
    "If you want to get reproducible results, use `rng` (and restart the kernel); for non-reproducible ones, use `np.random`."
   ]
  },
  {
   "cell_type": "code",
   "execution_count": 3,
   "metadata": {},
   "outputs": [],
   "source": [
    "UNIVERSE_SIZE = 100_000\n",
    "NUM_SETS = 10_000\n",
    "DENSITY = 0.3\n",
    "\n",
    "rng = np.random.Generator(np.random.PCG64([UNIVERSE_SIZE, NUM_SETS, int(10_000 * DENSITY)]))"
   ]
  },
  {
   "cell_type": "code",
   "execution_count": 4,
   "metadata": {},
   "outputs": [],
   "source": [
    "# DON'T EDIT THESE LINES!\n",
    "\n",
    "SETS = np.random.random((NUM_SETS, UNIVERSE_SIZE)) < DENSITY\n",
    "for s in range(UNIVERSE_SIZE):\n",
    "    if not np.any(SETS[:, s]):\n",
    "        SETS[np.random.randint(NUM_SETS), s] = True\n",
    "COSTS = np.pow(SETS.sum(axis=1), 1.1)"
   ]
  },
  {
   "cell_type": "markdown",
   "metadata": {},
   "source": [
    "## Helper Functions"
   ]
  },
  {
   "cell_type": "code",
   "execution_count": 5,
   "metadata": {},
   "outputs": [],
   "source": [
    "# Function to check if the solution covers the entire universe\n",
    "def valid(solution, SETS):\n",
    "    return np.all(np.logical_or.reduce(SETS[solution]))\n",
    "\n",
    "# Function to calculate the cost of the solution\n",
    "def cost(solution, COSTS):\n",
    "    return COSTS[solution].sum()"
   ]
  },
  {
   "cell_type": "markdown",
   "metadata": {},
   "source": [
    "## Have Fun!"
   ]
  },
  {
   "cell_type": "code",
   "execution_count": 6,
   "metadata": {},
   "outputs": [],
   "source": [
    "# List of instances with varying Universe Size, Number of Sets, and Density\n",
    "instances = [\n",
    "    {'Universe_size': 100, 'Num_sets': 10, 'Density': 0.2},\n",
    "    {'Universe_size': 1000, 'Num_sets': 100, 'Density': 0.2},\n",
    "    {'Universe_size': 10000, 'Num_sets': 1000, 'Density': 0.2},\n",
    "    {'Universe_size': 100000, 'Num_sets': 10000, 'Density': 0.1},\n",
    "    {'Universe_size': 100000, 'Num_sets': 10000, 'Density': 0.2},\n",
    "    {'Universe_size': 100000, 'Num_sets': 10000, 'Density': 0.3},\n",
    "]\n"
   ]
  },
  {
   "cell_type": "code",
   "execution_count": 7,
   "metadata": {},
   "outputs": [],
   "source": [
    "# Single Hill Climbing for a specific instance of Set Cover\n",
    "def hill_climbing_set_cover(UNIVERSE_SIZE, NUM_SETS, DENSITY):\n",
    "    # Generate the sets\n",
    "    SETS = np.random.random((NUM_SETS, UNIVERSE_SIZE)) < DENSITY\n",
    "    for s in range(UNIVERSE_SIZE):\n",
    "        if not np.any(SETS[:, s]):\n",
    "            SETS[np.random.randint(NUM_SETS), s] = True\n",
    "    COSTS = np.pow(SETS.sum(axis=1), 1.1)\n",
    "\n",
    "    # Initial solution: select all sets\n",
    "    solution = np.full(NUM_SETS, True)\n",
    "    current_cost = cost(solution, COSTS)\n",
    "\n",
    "    improved = True\n",
    "    while improved:\n",
    "        improved = False\n",
    "        # Try removing each set one by one and check if the solution is still valid\n",
    "        for i in range(NUM_SETS):\n",
    "            if solution[i]:  # If the set is included in the solution\n",
    "                solution[i] = False  # Try to remove it\n",
    "                if valid(solution, SETS):\n",
    "                    new_cost = cost(solution, COSTS)\n",
    "                    if new_cost < current_cost:  # Keep the change if it improves the cost\n",
    "                        current_cost = new_cost\n",
    "                        improved = True\n",
    "                    else:\n",
    "                        solution[i] = True  # Revert if no improvement\n",
    "                else:\n",
    "                    solution[i] = True  # Revert if the solution is no longer valid\n",
    "\n",
    "    return solution, current_cost"
   ]
  },
  {
   "cell_type": "code",
   "execution_count": 8,
   "metadata": {},
   "outputs": [],
   "source": [
    "# Multiple Hill Climbing for a specific instance of Set Cover\n",
    "def multiple_hill_climbing_set_cover(UNIVERSE_SIZE, NUM_SETS, DENSITY, num_trials=3):\n",
    "    best_solution = None\n",
    "    best_cost = float('inf')\n",
    "\n",
    "    for trial in range(num_trials):\n",
    "        solution, current_cost = hill_climbing_set_cover(UNIVERSE_SIZE, NUM_SETS, DENSITY)\n",
    "        if current_cost < best_cost:\n",
    "            best_solution = solution\n",
    "            best_cost = current_cost\n",
    "        print(f\"Trial {trial + 1}, Cost: {current_cost}\")\n",
    "\n",
    "    return best_solution, best_cost\n"
   ]
  },
  {
   "cell_type": "code",
   "execution_count": 9,
   "metadata": {},
   "outputs": [
    {
     "name": "stdout",
     "output_type": "stream",
     "text": [
      "Running Hill Climbing for instance 1...\n",
      "Instance 1: Final cost = 281.0420510844817\n",
      "Running Hill Climbing for instance 2...\n",
      "Instance 2: Final cost = 6812.051862712368\n",
      "Running Hill Climbing for instance 3...\n",
      "Instance 3: Final cost = 123318.26510808044\n",
      "Running Hill Climbing for instance 4...\n",
      "Instance 4: Final cost = 1938039.801307265\n",
      "Running Hill Climbing for instance 5...\n",
      "Instance 5: Final cost = 2102205.649421543\n",
      "Running Hill Climbing for instance 6...\n",
      "Instance 6: Final cost = 2187873.5952023026\n"
     ]
    }
   ],
   "source": [
    "# Run Hill Climbing on all instances\n",
    "for i, instance in enumerate(instances):\n",
    "    print(f\"Running Hill Climbing for instance {i + 1}...\")\n",
    "    solution, final_cost = hill_climbing_set_cover(\n",
    "        instance['Universe_size'],\n",
    "        instance['Num_sets'],\n",
    "        instance['Density']\n",
    "    )\n",
    "    print(f\"Instance {i + 1}: Final cost = {final_cost}\")\n"
   ]
  },
  {
   "cell_type": "code",
   "execution_count": 11,
   "metadata": {},
   "outputs": [
    {
     "name": "stdout",
     "output_type": "stream",
     "text": [
      "Running Multiple Hill Climbing for instance 1...\n",
      "Trial 1, Cost: 277.7940965656809\n",
      "Trial 2, Cost: 249.5465285565493\n",
      "Trial 3, Cost: 324.1686088294119\n",
      "Instance 1: Best cost = 249.5465285565493\n",
      "Running Multiple Hill Climbing for instance 2...\n",
      "Trial 1, Cost: 6814.929979060023\n",
      "Trial 2, Cost: 7131.111653388052\n",
      "Trial 3, Cost: 7649.710332842243\n",
      "Instance 2: Best cost = 6814.929979060023\n",
      "Running Multiple Hill Climbing for instance 3...\n",
      "Trial 1, Cost: 128233.79267752863\n",
      "Trial 2, Cost: 128681.60022083\n",
      "Trial 3, Cost: 132655.76793479468\n",
      "Instance 3: Best cost = 128233.79267752863\n",
      "Running Multiple Hill Climbing for instance 4...\n",
      "Trial 1, Cost: 1985901.4429496585\n",
      "Trial 2, Cost: 2009254.8002993804\n",
      "Trial 3, Cost: 1961179.8388399915\n",
      "Instance 4: Best cost = 1961179.8388399915\n",
      "Running Multiple Hill Climbing for instance 5...\n",
      "Trial 1, Cost: 2208165.914225829\n",
      "Trial 2, Cost: 2148258.661976699\n",
      "Trial 3, Cost: 2208518.6463252264\n",
      "Instance 5: Best cost = 2148258.661976699\n",
      "Running Multiple Hill Climbing for instance 6...\n",
      "Trial 1, Cost: 2188153.530484053\n",
      "Trial 2, Cost: 2184626.0393225793\n",
      "Trial 3, Cost: 2270651.251233692\n",
      "Instance 6: Best cost = 2184626.0393225793\n"
     ]
    }
   ],
   "source": [
    "# Run Multiple Hill Climbing on all instances\n",
    "for i, instance in enumerate(instances):\n",
    "    print(f\"Running Multiple Hill Climbing for instance {i + 1}...\")\n",
    "    best_solution, best_cost = multiple_hill_climbing_set_cover(\n",
    "        instance['Universe_size'],\n",
    "        instance['Num_sets'],\n",
    "        instance['Density'],\n",
    "        num_trials=3  # Number of trials for Multiple Hill Climbing\n",
    "    )\n",
    "    print(f\"Instance {i + 1}: Best cost = {best_cost}\")\n"
   ]
  }
 ],
 "metadata": {
  "kernelspec": {
   "display_name": "ci-g9M0Db4Q-py3.11",
   "language": "python",
   "name": "python3"
  },
  "language_info": {
   "codemirror_mode": {
    "name": "ipython",
    "version": 3
   },
   "file_extension": ".py",
   "mimetype": "text/x-python",
   "name": "python",
   "nbconvert_exporter": "python",
   "pygments_lexer": "ipython3",
   "version": "3.11.7"
  }
 },
 "nbformat": 4,
 "nbformat_minor": 4
}
